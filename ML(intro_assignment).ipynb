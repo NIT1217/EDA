{
  "nbformat": 4,
  "nbformat_minor": 0,
  "metadata": {
    "colab": {
      "provenance": []
    },
    "kernelspec": {
      "name": "python3",
      "display_name": "Python 3"
    },
    "language_info": {
      "name": "python"
    }
  },
  "cells": [
    {
      "cell_type": "markdown",
      "source": [
        "1.What is a parameter?\n",
        "- parameter are the learn during the data training and represent wjhat the data learn"
      ],
      "metadata": {
        "id": "a2IU6OPyL7p_"
      }
    },
    {
      "cell_type": "markdown",
      "source": [
        "2. What is correlation?\n",
        " What does negative correlation mean?\n",
        "\n",
        " - corellation gives us the relation between two numeric features and shows how will the other variable behave with respect to other\n",
        "\n",
        " negative correlation - it means that  one will increase with decrease in other\n"
      ],
      "metadata": {
        "id": "oeDj338HL7oV"
      }
    },
    {
      "cell_type": "markdown",
      "source": [
        "3. Define Machine Learning. What are the main components in Machine Learning?\n",
        "- machine learning stands for learning  pattern  from the data.\n",
        "its component are\n",
        "a. data\n",
        "b. model\n",
        "c. feature\n",
        "d.trainng\n",
        "e.evolution\n",
        "f. prediction\n",
        "\n"
      ],
      "metadata": {
        "id": "b6EnjRhoL7la"
      }
    },
    {
      "cell_type": "markdown",
      "source": [
        "4. How does loss value help in determining whether the model is good or not?\n",
        "-loss in values causes the data loss and is not good"
      ],
      "metadata": {
        "id": "3GpenWKNL7jU"
      }
    },
    {
      "cell_type": "markdown",
      "source": [
        "5. What are continuous and categorical variables?\n",
        "\n",
        "continous data are a type of the quantitative data and the data lie in the range of a continous region\n",
        "\n",
        "\n",
        "categorical data = these are data which have qualitattive values.\n",
        "\n",
        "\n"
      ],
      "metadata": {
        "id": "hplMxgDkL7fs"
      }
    },
    {
      "cell_type": "markdown",
      "source": [
        "6.   How do we handle categorical variables in Machine Learning? What are the common method\n",
        "\n",
        "- to handle the categorical data in machine learning we use data encoding and the methods are\n",
        "oneHotEncoding\n",
        "ordinal/lebel encoding\n",
        "target ordinal encoder"
      ],
      "metadata": {
        "id": "MNuhTLA8L7cL"
      }
    },
    {
      "cell_type": "markdown",
      "source": [
        "7. What do you mean by training and testing a dataset?\n",
        "\n",
        " Training Dataset:\n",
        "This is the main portion of the data used to train the model.\n",
        "\n",
        "The model looks at this data, finds patterns, and learns how to make predictions.\n",
        "\n",
        "Testing Dataset:\n",
        "This is a separate set of data used to test how well the model has learned.\n",
        "\n",
        "It checks if the model can make correct predictions on new, unseen data.\n",
        "\n",
        "\n",
        "\n"
      ],
      "metadata": {
        "id": "fYAbTRluL7au"
      }
    },
    {
      "cell_type": "markdown",
      "source": [
        "8.What is sklearn.preprocessing?\n",
        "\n",
        "sklearn.preprocessing is a sub module of the scikit learn peckage"
      ],
      "metadata": {
        "id": "GCAShff6L7Yq"
      }
    },
    {
      "cell_type": "markdown",
      "source": [
        "9. What is a Test set?\n",
        "- it checks the performance of a trained data on the unseen data and it evaluate the accuracy and error in the pattern of the trained data"
      ],
      "metadata": {
        "id": "ZOjhSFWFL7Ww"
      }
    },
    {
      "cell_type": "markdown",
      "source": [
        "10. How do we split data for model fitting (training and testing) in Python?\n",
        "-at question! In Python, we commonly use scikit-learn (also known as sklearn) to split data for training and testing.\n",
        "from sklearn.model_selection import train_test_split"
      ],
      "metadata": {
        "id": "OvS0-WUEL7U6"
      }
    },
    {
      "cell_type": "markdown",
      "source": [
        "11.  Why do we have to perform EDA before fitting a model to the data?\n",
        "- while performing the EDA we get the insights about the data and this is helpful to understand the data"
      ],
      "metadata": {
        "id": "Pdaxtq2KL7TY"
      }
    },
    {
      "cell_type": "markdown",
      "source": [
        "12. What is correlation?\n",
        "- correlation stands for relation of avariable with respect  to the uther"
      ],
      "metadata": {
        "id": "l-xDrW4bL7Ru"
      }
    },
    {
      "cell_type": "markdown",
      "source": [
        "13. What does negative correlation mean?\n",
        "- negative correlation stands for , ddecrease in the one variable with respectt to increasse in other"
      ],
      "metadata": {
        "id": "WGgisNmXL7O5"
      }
    },
    {
      "cell_type": "markdown",
      "source": [
        "14. How can you find correlation between variables in Python?\n",
        "- we can find out the correlation matrix using the df.corr(). and it gives the correlation between numeric column only\n"
      ],
      "metadata": {
        "id": "FnIryl7kdUci"
      }
    },
    {
      "cell_type": "markdown",
      "source": [
        "15.  What is causation? Explain difference between correlation and causation with an example.\n",
        ""
      ],
      "metadata": {
        "id": "LKRImh3pdUWv"
      }
    },
    {
      "cell_type": "markdown",
      "source": [
        "16.What is an Optimizer? What are different types of optimizers? Explain each with an example.\n",
        "- An optimizer is an algorithm that adjusts the weights (or parameters) of a machine learning model to minimize the loss function.\n",
        "\n",
        "types of optimer\n",
        "\n",
        "1. Gradient Descent (GD)\n",
        "2. Stochastic Gradient Descent (SGD)\n",
        "3. Mini-Batch Gradient Descent\n",
        "4. Momentum\n",
        "5. RMSprop (Root Mean Square Propagation)\n",
        "6. Adam (Adaptive Moment Estimation)\n",
        "7. Adagrad / Adadelta"
      ],
      "metadata": {
        "id": "gndORQ57dUSH"
      }
    },
    {
      "cell_type": "markdown",
      "source": [
        "17.  What is sklearn.linear_model ?\n",
        "- linear_model is a submmodule of a scikit learn and use in the regression and classification of data\n",
        ""
      ],
      "metadata": {
        "id": "H9KnYCOQdUP6"
      }
    },
    {
      "cell_type": "markdown",
      "source": [
        "18.What does model.fit() do? What arguments must be given?\n",
        "- model.fit () says that how the model learn and than. the arguments are column of a  particular column or feature"
      ],
      "metadata": {
        "id": "AlmNsqwrdUNI"
      }
    },
    {
      "cell_type": "markdown",
      "source": [
        "19.  What does model.predict() do?\n",
        "model.predict() takes in input data and returns the model's output, which is the prediction it makes based on what it learned during training.\n"
      ],
      "metadata": {
        "id": "nO1Vin6vdUJ_"
      }
    },
    {
      "cell_type": "markdown",
      "source": [
        "20.What are continuous and categorical variables\n",
        "\n",
        "--continous data are a type of the quantitative data and the data lie in the range of a continous region\n",
        "\n",
        "\n",
        "categorical data = these are data which have qualitattive values."
      ],
      "metadata": {
        "id": "F6RR2E8wdUHs"
      }
    },
    {
      "cell_type": "markdown",
      "source": [
        "21. What is feature scaling? How does it help in Machine Learning?\n",
        "Feature scaling is a data preprocessing technique used in machine learning to normalize or standardize the range of independent variables (features) in your dataset.\n",
        "feature scalling decrease the data range in the data set which make the machine learning easy and less expensive\n",
        "\n"
      ],
      "metadata": {
        "id": "6sGRSRPNdUFD"
      }
    },
    {
      "cell_type": "markdown",
      "source": [
        "22. How do we perform scaling in Python?\n",
        "-In Python, feature scaling can be easily done using libraries like scikit-learn\n",
        "to perform scalling in python\n",
        "\n",
        "from sklearn.preprocessing import StanderdScaler\n",
        "from sklearn.preprocessing import MinMaxScaler\n",
        "from sklearn.preprocessing import Normalized\n",
        "\n",
        "\n"
      ],
      "metadata": {
        "id": "W-FkKstedUCr"
      }
    },
    {
      "cell_type": "markdown",
      "source": [
        "23 What is sklearn.preprocessing?\n",
        "- sklearn.preprocessing is a module in scikit-learn that provides a set of tools and functions for data preprocessing tasks. Preprocessing is an essential step in machine learning, as it prepares your data to be fed into machine learning models, ensuring that it is in the right format and scale."
      ],
      "metadata": {
        "id": "XD6nvx9OjpFR"
      }
    },
    {
      "cell_type": "markdown",
      "source": [
        "24. How do we split data for model fitting (training and testing) in Python?\n",
        "\n",
        "-in Python, we typically use train_test_split() from scikit-learn to split\n",
        " data into training and testing sets. This function allows you to randomly split the dataset into two parts: one for training the model and one for evaluating the model’s performance.\n"
      ],
      "metadata": {
        "id": "29DYh2H1jpjn"
      }
    },
    {
      "cell_type": "markdown",
      "source": [
        "25.Explain data encoding?\n",
        " - data encoding stands for the conversion of categorical column into the numeric column"
      ],
      "metadata": {
        "id": "WIgU1DsSjwNQ"
      }
    }
  ]
}